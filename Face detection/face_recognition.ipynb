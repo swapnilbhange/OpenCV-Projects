{
 "cells": [
  {
   "cell_type": "code",
   "execution_count": null,
   "metadata": {},
   "outputs": [],
   "source": [
    "import cv2\n",
    "import numpy as np\n",
    "import os\n",
    "\n",
    "recognizer = cv2.face.LBPHFaceRecognizer_Create()\n",
    "recognizer.read('Trainer/trainer.yml')\n",
    "cascadePath = 'haarcascade_frontalface_default.xml'\n",
    "faceCascade = cv2.CascadeClassifier(cascadePath)\n",
    "\n",
    "font = cv2.FONT_HERSHEY_TRIPLEX\n",
    "\n",
    "id = 0\n",
    "names = [0,1,2,3,4,5]\n",
    "\n",
    "cam = cv2.VideoCapture(0)\n",
    "cam.set(3,640)\n",
    "cam.set(4,480)\n",
    "\n",
    "minW = 0.1*cam.get(3)\n",
    "minH = 0.1*cam.get(4)\n",
    "\n",
    "while True:\n",
    "\n",
    "    ret, img = cam.read()\n",
    "    gray = cv2.cvtColor(img, cv2.COLOR_BGR2GRAY)\n",
    "    faces = faceCascade.detectMultiScale(gray, scaleFactor= 1.2, minNeighbourd = 5,minSize = (int(minW), int(minH)))\n",
    "\n",
    "    for(x,y,w,h) in faces:\n",
    "        cv2.reactangle(img, (x,y), (x+w, y+h), (0,255,0),2)\n",
    "        id, confidence = recognizer.predict(gray[y:y+h, x:x+w])\n",
    "\n",
    "        if(confidence < 100):\n",
    "            id = names[id]\n",
    "            confidence = \" {0}%\".format(round(100-confidence))\n",
    "        else: \n",
    "            id = \"unknown\"\n",
    "            confidence = \" {0}%\".format(round(100-confidence))\n",
    "\n",
    "        cv2.putText(img, str(id), (x+5,y+5), font, 1, (255,255,255), 2)\n",
    "        cv2.putText(img, str(confidence), (x+5, y+h-5), font, 1, (255,255,0), 1)\n",
    "\n",
    "    cv2.imshow('camera', img)\n",
    "\n",
    "    k = cv2.waitKey(10) & 0xff\n",
    "    if k==27:\n",
    "        break\n",
    "\n",
    "print(\"\\n [INFO] Exiting Program\")\n",
    "cam.release()\n",
    "cv2.destroyAllWindows()"
   ]
  },
  {
   "cell_type": "code",
   "execution_count": null,
   "metadata": {},
   "outputs": [],
   "source": []
  },
  {
   "cell_type": "code",
   "execution_count": null,
   "metadata": {},
   "outputs": [],
   "source": []
  }
 ],
 "metadata": {
  "kernelspec": {
   "display_name": "Python 3",
   "language": "python",
   "name": "python3"
  },
  "language_info": {
   "codemirror_mode": {
    "name": "ipython",
    "version": 3
   },
   "file_extension": ".py",
   "mimetype": "text/x-python",
   "name": "python",
   "nbconvert_exporter": "python",
   "pygments_lexer": "ipython3",
   "version": "3.7.3"
  }
 },
 "nbformat": 4,
 "nbformat_minor": 2
}
